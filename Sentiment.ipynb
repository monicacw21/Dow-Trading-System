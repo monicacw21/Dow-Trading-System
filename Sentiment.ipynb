{
 "cells": [
  {
   "cell_type": "code",
   "execution_count": 219,
   "id": "bd162918-0526-497b-b42d-7f1a5c3aac6e",
   "metadata": {
    "tags": []
   },
   "outputs": [],
   "source": [
    "#%matplotlib inline\n",
    "import yfinance as yF\n",
    "import pandas as pd\n",
    "import numpy as np\n",
    "import pandas_datareader.data as web\n",
    "import matplotlib.pyplot as plt\n",
    "import seaborn as sns\n",
    "import warnings\n",
    "import datetime\n",
    "from datetime import date\n",
    "warnings.filterwarnings('ignore')"
   ]
  },
  {
   "cell_type": "code",
   "execution_count": 220,
   "id": "589afaec-0b16-4d05-b82a-f93cfe58e102",
   "metadata": {
    "tags": []
   },
   "outputs": [],
   "source": [
    "start = datetime.datetime.now() - datetime.timedelta(days=365)\n",
    "end = date.today()"
   ]
  },
  {
   "cell_type": "code",
   "execution_count": 221,
   "id": "e654b0ba-c73b-445f-be9c-6b25c0941a4d",
   "metadata": {
    "tags": []
   },
   "outputs": [],
   "source": [
    "class Data_Pull:\n",
    "    def __init__(self, start, end, tickers):\n",
    "        self.start_date = start\n",
    "        self.end_date = end\n",
    "        self.ticker_list = tickers\n",
    "        \n",
    "    def Data_Request(self):\n",
    "        dataframe = yF.download(self.ticker_list, self.start_date, self.end_date)['Adj Close']\n",
    "        return dataframe"
   ]
  },
  {
   "cell_type": "code",
   "execution_count": 222,
   "id": "050893c3-39b0-40cc-b292-4b4ee3a05783",
   "metadata": {
    "tags": []
   },
   "outputs": [
    {
     "name": "stdout",
     "output_type": "stream",
     "text": [
      "[*********************100%***********************]  8 of 8 completed\n"
     ]
    }
   ],
   "source": [
    "tickers = ['DBC', 'TIP', 'GNR', 'REET', 'SGOV', 'IEF', 'VT', 'IGIB']\n",
    "# SMA Data\n",
    "# Removes assets that are below thier 168 day or 8 month SMA.\n",
    "SMA_Data = Data_Pull(start, end, tickers)\n",
    "SMA_Stock_data = SMA_Data.Data_Request()\n",
    "df = SMA_Stock_data.copy()\n",
    "data=SMA_Stock_data.copy()"
   ]
  },
  {
   "cell_type": "code",
   "execution_count": 223,
   "id": "66428581-9161-44a3-ad87-815510724044",
   "metadata": {},
   "outputs": [
    {
     "name": "stdout",
     "output_type": "stream",
     "text": [
      "Monthly:['High Inflation & High Growth']\n"
     ]
    }
   ],
   "source": [
    "df = (df.pct_change() +1)[1:].resample('M').prod()\n",
    "df =  df - 1\n",
    "df = df.tail(12)\n",
    "df['HighInf_LowGrowth'] = df['DBC']*0.5 + df['TIP']*0.5\n",
    "df['HighInf_HighGrowth'] = df['GNR']*0.5 + df['REET']*0.5\n",
    "df['LowInf_LowGrowth'] = df['SGOV']*0.5 + df['IEF']*0.5\n",
    "df['LowInf_HighGrowth'] = df['VT']*0.5 + df['IGIB']*0.5\n",
    "df = df.drop(df.columns[0:8], axis = 1)\n",
    "df = df.tail(1)\n",
    "df = df.T\n",
    "df.columns = df.columns = ['Column1']\n",
    "high_value = df.nlargest(n=1, columns=['Column1'])\n",
    "high_value = high_value.index.to_list()\n",
    "if high_value == ['HighInf_HighGrowth']:\n",
    "    Value = ['High Inflation & High Growth']\n",
    "elif high_value == ['HighInf_LowGrowth']:\n",
    "    Value = ['High Inflation & Low Growth']\n",
    "elif high_value == ['LowInf_LowGrowth']:\n",
    "    Value = ['Low Inflation & Low Growth']\n",
    "else: \n",
    "    Value = ['Low Inflation & High Growth']\n",
    "print(f'Monthly:{Value}')"
   ]
  },
  {
   "cell_type": "code",
   "execution_count": 224,
   "id": "38c8f401-83a7-4f9e-b1ed-73c3f46dd353",
   "metadata": {
    "tags": []
   },
   "outputs": [
    {
     "name": "stdout",
     "output_type": "stream",
     "text": [
      "Yearly:['Low Inflation & High Growth']\n"
     ]
    }
   ],
   "source": [
    "data = (data.pct_change() +1)[1:].resample('Y').prod()\n",
    "data =  data - 1\n",
    "data = data.tail(12)\n",
    "data['HighInf_LowGrowth'] = data['DBC']*0.5 + data['TIP']*0.5\n",
    "data['HighInf_HighGrowth'] = data['GNR']*0.5 + data['REET']*0.5\n",
    "data['LowInf_LowGrowth'] = data['SGOV']*0.5 + data['IEF']*0.5\n",
    "data['LowInf_HighGrowth'] = data['VT']*0.5 + data['IGIB']*0.5\n",
    "data = data.drop(data.columns[0:8], axis = 1)\n",
    "data = data.tail(1)\n",
    "data = data.T\n",
    "data.columns = data.columns = ['Column1']\n",
    "high_value = data.nlargest(n=1, columns=['Column1'])\n",
    "high_value = high_value.index.to_list()\n",
    "if high_value == ['HighInf_HighGrowth']:\n",
    "    Value = ['High Inflation & High Growth']\n",
    "elif high_value == ['HighInf_LowGrowth']:\n",
    "    Value = ['High Inflation & Low Growth']\n",
    "elif high_value == ['LowInf_LowGrowth']:\n",
    "    Value = ['Low Inflation & Low Growth']\n",
    "else: \n",
    "    Value = ['Low Inflation & High Growth']\n",
    "print(f'Yearly:{Value}')"
   ]
  },
  {
   "cell_type": "code",
   "execution_count": null,
   "id": "c525a37b-be35-4fbd-8341-0d7723a1d0b7",
   "metadata": {},
   "outputs": [],
   "source": []
  }
 ],
 "metadata": {
  "kernelspec": {
   "display_name": "Python 3 (ipykernel)",
   "language": "python",
   "name": "python3"
  },
  "language_info": {
   "codemirror_mode": {
    "name": "ipython",
    "version": 3
   },
   "file_extension": ".py",
   "mimetype": "text/x-python",
   "name": "python",
   "nbconvert_exporter": "python",
   "pygments_lexer": "ipython3",
   "version": "3.7.9"
  }
 },
 "nbformat": 4,
 "nbformat_minor": 5
}
